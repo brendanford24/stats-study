{
  "cells": [
    {
      "cell_type": "markdown",
      "metadata": {},
      "source": [
        "```{css echo=FALSE}\n",
        ".titletext = {\n",
        "  text-align: center;\n",
        "}\n",
        "```\n",
        "\n",
        "\n",
        "![](pics/manta_ray.gif){fig-align=\"center\"}\n",
        "\n",
        "# Stats Study {.unnumbered .titletext}"
      ],
      "id": "e3bb660f"
    }
  ],
  "metadata": {
    "kernelspec": {
      "display_name": "Python 3",
      "language": "python",
      "name": "python3"
    }
  },
  "nbformat": 4,
  "nbformat_minor": 5
}